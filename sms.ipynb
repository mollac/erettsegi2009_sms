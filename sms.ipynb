{
  "cells": [
    {
      "metadata": {},
      "cell_type": "markdown",
      "source": "### 4. SMS ###\nEsemes Ernő szenvedélyes SMS-küldő, ezért a MaMobil nevű cég tesztelésre kérte fel.\nEhhez egy új, kézreálló telefont adnak, amelynek tesztüzemben egyetlen hátránya, hogy leg-\nfeljebb az először érkező 10 darab, egyenként legfeljebb 100 karakteres üzenetet tud eltárolni.\nHa ettől több üzenet van, akkor azokat korlátlan számban a szolgáltató őrzi meg a hangpostá-\nhoz hasonlóan, tehát azokhoz csak bizonyos díj fejében juthat hozzá. Az üzenetek nem tartal-\nmazhatnak ékezetes karaktereket.\n                 \nAz sms.txt állomány első sorában az a k szám olvasható, amely megadja, hogy hány\nüzenet érkezett a készülékre a mai napon. Az érkező üzenetek száma legalább egy, de nem\nhaladja meg a 100 darabot. Minden üzenethez 2 sor tartozik. Az első sor szerkezete a követ-\nkező: először az érkezés órája (szám), érkezés perce (szám), telefonszám (pontosan 9 jegyű\nszám), a másodikban pedig az üzenet (legfeljebb 100 karakternyi szöveg) található. Az állo-\nmányban az üzenetek számát követően k×2 sor szerepel. Az üzenetek érkezési idő szerint\nnövekvően rendezettek.\nPéldául:\n```\n30\n9 11 123456789\nSzia, mikor jossz?\n9 13 434324223\nNem kerek ebedet!\n9 14 434324223\nHova menjek erted?\n9 20 123456789\nHozd el a mintas pulcsimat!\n9 21 434324223\nNyertünk a palyazaton!\n```\nKészítsen programot sms néven, amely az alábbi kérdésekre válaszol! Ügyeljen arra, hogy\na program forráskódját a megadott helyre mentse!\nA képernyőre írást igénylő részfeladatok eredményének megjelenítése előtt írja a képer-\nnyőre a feladat sorszámát! (Például 3. feladat: )\n1. Olvassa be az sms.txt állományban talált adatokat, s annak felhasználásával oldja meg a\nkövetkező feladatokat! Ha az állományt nem tudja beolvasni, akkor a benne található ada-\ntok közül az első tíz üzenet adatait jegyezze be a programba, s úgy oldja meg a feladato-\nkat!\n2. A fájlban tárolt utolsó üzenet érkezésekor melyik üzenet a legfrissebb a telefon memóriá-\njában? Írja az üzenet szövegét a képernyőre!\n3. Adja meg a leghosszabb és a legrövidebb üzenetek adatait! Ha több azonos hosszúságú\nüzenet van, akkor elegendő csak egyet-egyet megadnia! A képernyőn óra, perc, telefon-\nszám, üzenet formában jelenítse meg az adatokat!\ngyakorlati vizsga 0801\n10 / 12\n2008. május 19.Informatika — emelt szint\nAzonosító\njel:\n4. Készítsen karakterhossz szerinti statisztikát: 1-20, 21-40, 41-60, 61-80, 81-100!\nAz intervallumok mellé a hozzájuk tartozó üzenetek darabszámát írja, mint eredményt a\nképernyőre!\n5. Ha Ernő minden óra 0. percében elolvasná a memóriában lévő üzeneteket (az éppen ekkor\nérkező üzeneteket nem látja), majd ki is törölné, akkor hány olyan üzenet lenne, amelynek\nelolvasásához fel kellene hívnia a szolgáltatót? Írja ezt a számot a képernyőre! (Az üzene-\nteket először 1, utoljára 24 órakor olvassa el.)\n6. Ernő barátnője gyakran küld sms-t az 123456789-es számról. Mennyi volt a leghosszabb\nidő, amennyi eltelt két üzenete között? Ha legfeljebb 1 üzenet érkezett tőle, akkor írja ki,\nhogy „nincs elegendő üzenet”, egyébként pedig adja meg a leghosszabb időtartamot óra\nperc alakban!\n7. Egy üzenet véletlenül késett. Olvassa be a billentyűzetről ennek az sms-nek az adatait,\nmajd tárolja el a memóriában a többihez hasonlóan!\n8. Az smski.txt állományban készítsen egy listát az üzenetekről telefonszám szerinti cso-\nportosításban, telefonszám szerint növekvő sorrendben! Egy csoporthoz tartozó első sor-\nban a feladó telefonszáma szerepeljen! Az alatta lévő sorokban a feladás ideje, majd a tőle\nújabb szóközzel elválasztva az üzenet szövege szerepeljen!"
    },
    {
      "metadata": {
        "trusted": true
      },
      "cell_type": "code",
      "source": "from datetime import time, timedelta\nfrom collections import Counter\n\nkategoria = ['1-20', '21-40', '41-60', '61-80', '81-100']\n\nclass Sms:\n    def __init__(self, ora, perc, tel, szoveg):\n        self.ido = time(int(ora), int(perc))\n        self.tel = tel\n        self.szoveg = szoveg\n        self.hossz = len(szoveg)\n        self.d_ido = timedelta(hours=int(ora), minutes=int(perc))\n\n    def ir(self, txt=''):\n        print(txt, self.ido, self.tel, self.szoveg)\n\n    def __str__(self):\n        return '\\n '+str(self.ido)[:5]+ ' ' + self.szoveg + ' '\n\n\nsmsek = []\nmem = 10",
      "execution_count": 1,
      "outputs": []
    },
    {
      "metadata": {
        "trusted": true
      },
      "cell_type": "code",
      "source": "with open('sms.txt') as f:\n    x = f.read().split('\\n')\n    for i in range(1, len(x) - 1, 2):\n        s = x[i].split()\n        smsek.append(Sms(s[0], s[1], s[2], x[i + 1]))\n\nsmsek[0]",
      "execution_count": 4,
      "outputs": [
        {
          "output_type": "execute_result",
          "execution_count": 4,
          "data": {
            "text/plain": "<__main__.Sms at 0x7fa10f791a58>"
          },
          "metadata": {}
        }
      ]
    },
    {
      "metadata": {
        "trusted": true
      },
      "cell_type": "code",
      "source": "print('2. feladat\\nA legfrissebb üzenet: ', smsek[mem - 1].szoveg)\n\nmin(smsek, key=lambda v: v.hossz).ir('3. feladat\\nA legrövidebb üzenet:')\nmax(smsek, key=lambda v: v.hossz).ir('A leghosszabb üzenet:')",
      "execution_count": 5,
      "outputs": [
        {
          "output_type": "stream",
          "text": "2. feladat\nA legfrissebb üzenet:  Erdekli Ont egy telefon? A vezetek nelkuli telefon most a legolcsobb!\n3. feladat\nA legrövidebb üzenet: 11:36:00 434324223 Kesz a kocsi!\nA leghosszabb üzenet: 09:40:00 434325432 A nyelvvizsgadra mennyi potlekot kapsz? Nekem meg nem fizettek egy fillert sem. :-(\n",
          "name": "stdout"
        }
      ]
    },
    {
      "metadata": {
        "trusted": true
      },
      "cell_type": "code",
      "source": "print('4. feladat')\nc = Counter((sms.hossz - 1) // 20 for sms in smsek)\n[print(f'{kategoria[i]:>6}: {c[i]:<}') for i in range(len(c))]",
      "execution_count": 6,
      "outputs": [
        {
          "output_type": "stream",
          "text": "4. feladat\n  1-20: 15\n 21-40: 51\n 41-60: 6\n 61-80: 15\n81-100: 3\n",
          "name": "stdout"
        },
        {
          "output_type": "execute_result",
          "execution_count": 6,
          "data": {
            "text/plain": "[None, None, None, None, None]"
          },
          "metadata": {}
        }
      ]
    },
    {
      "metadata": {
        "trusted": true
      },
      "cell_type": "code",
      "source": "print('5. feladat')\nx = Counter([sms.ido.hour for sms in smsek])\nprint(f'A szolgáltatót {sum([i-mem for i in x.values() if i > mem])} SMS miatt kell felhívni.')",
      "execution_count": 7,
      "outputs": [
        {
          "output_type": "stream",
          "text": "5. feladat\nA szolgáltatót 51 SMS miatt kell felhívni.\n",
          "name": "stdout"
        }
      ]
    },
    {
      "metadata": {
        "trusted": true
      },
      "cell_type": "code",
      "source": "print('6. feladat')\nx = [sms.d_ido for sms in smsek if sms.tel == '123456789']\nprint('Nincs elég adat.') if len(x) == 0 else print('Leghosszabb időtartam:', max(x[i+1] - x[i] for i in range(len(x) - 1)))",
      "execution_count": 8,
      "outputs": [
        {
          "output_type": "stream",
          "text": "6. feladat\nLeghosszabb időtartam: 1:27:00\n",
          "name": "stdout"
        }
      ]
    },
    {
      "metadata": {
        "trusted": true
      },
      "cell_type": "code",
      "source": "print('7. feladat')\nsmsek.append(Sms(input('Óra: '), input('Perc: '), input('Telefon: '), input('Szöveg: ')))",
      "execution_count": 9,
      "outputs": [
        {
          "output_type": "stream",
          "text": "7. feladat\nÓra: 12\nPerc: 21\nTelefon: \nSzöveg: \n",
          "name": "stdout"
        }
      ]
    },
    {
      "metadata": {
        "trusted": true
      },
      "cell_type": "code",
      "source": "print('8. feledat', end=' -> ')\nwith open('smski.txt', 'w') as f:\n    x = sorted(smsek, key=lambda v: v.tel)\n    prev = x[0]\n    f.write(prev.tel + str(prev))\n    for c in range(1, len(x)):\n        if x[c].tel != prev.tel:\n            f.write('\\n' + x[c].tel)\n            prev = x[c]\n        f.write(str(x[c]))\n\nprint('kész!')",
      "execution_count": 10,
      "outputs": [
        {
          "output_type": "stream",
          "text": "8. feledat -> kész!\n",
          "name": "stdout"
        }
      ]
    }
  ],
  "metadata": {
    "kernelspec": {
      "name": "python36",
      "display_name": "Python 3.6",
      "language": "python"
    },
    "language_info": {
      "mimetype": "text/x-python",
      "nbconvert_exporter": "python",
      "name": "python",
      "pygments_lexer": "ipython3",
      "version": "3.6.6",
      "file_extension": ".py",
      "codemirror_mode": {
        "version": 3,
        "name": "ipython"
      }
    }
  },
  "nbformat": 4,
  "nbformat_minor": 2
}